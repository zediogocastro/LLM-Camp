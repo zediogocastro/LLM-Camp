{
 "cells": [
  {
   "cell_type": "markdown",
   "metadata": {},
   "source": [
    "# 1. RAG"
   ]
  },
  {
   "cell_type": "code",
   "execution_count": 81,
   "metadata": {},
   "outputs": [
    {
     "name": "stdout",
     "output_type": "stream",
     "text": [
      "[\n",
      "  {\n",
      "    \"course\": \"data-engineering-zoomcamp\",\n",
      "    \"documents\": [\n",
      "      {\n",
      "        \"text\": \"The purpose of this document is to capture frequently asked technical questions\\nThe exact day and hour of the course will be 15th Jan 2024 at 17h00. The course will start with the first  \\u201cOffice Hours'' live.1\\nSubscribe to course public Google Calendar (it works from Desktop only).\\nRegister before the course starts using this link.\\nJoin the course Telegram channel with announcements.\\nDon\\u2019t forget to register in DataTalks.Club's Slack and join the channel.\",\n",
      "        \"section\": \"General course-related questions\",\n",
      "        \"question\": \"Course - When will the course start?\"\n",
      "      },\n",
      "      {\n"
     ]
    }
   ],
   "source": [
    "#!wget https://raw.githubusercontent.com/alexeygrigorev/minsearch/main/minsearch.py\n",
    "# !wget https://raw.githubusercontent.com/DataTalksClub/llm-zoomcamp/main/01-intro/documents.json\n",
    "\n",
    "!head documents.json"
   ]
  },
  {
   "cell_type": "code",
   "execution_count": 90,
   "metadata": {},
   "outputs": [],
   "source": [
    "import minsearch\n",
    "import json\n",
    "from pprint import pprint"
   ]
  },
  {
   "cell_type": "code",
   "execution_count": 8,
   "metadata": {},
   "outputs": [],
   "source": [
    "with open('documents.json', 'rt') as f_in:\n",
    "    docs_raw = json.load(f_in)"
   ]
  },
  {
   "cell_type": "code",
   "execution_count": 82,
   "metadata": {},
   "outputs": [],
   "source": [
    "documents = []\n",
    "\n",
    "for course_dict in docs_raw:\n",
    "    for doc in course_dict['documents']:\n",
    "        doc['course'] = course_dict['course']\n",
    "        documents.append(doc)"
   ]
  },
  {
   "cell_type": "code",
   "execution_count": 91,
   "metadata": {},
   "outputs": [
    {
     "name": "stdout",
     "output_type": "stream",
     "text": [
      "{'course': 'data-engineering-zoomcamp',\n",
      " 'question': 'Course - When will the course start?',\n",
      " 'section': 'General course-related questions',\n",
      " 'text': 'The purpose of this document is to capture frequently asked '\n",
      "         'technical questions\\n'\n",
      "         'The exact day and hour of the course will be 15th Jan 2024 at 17h00. '\n",
      "         \"The course will start with the first  “Office Hours'' live.1\\n\"\n",
      "         'Subscribe to course public Google Calendar (it works from Desktop '\n",
      "         'only).\\n'\n",
      "         'Register before the course starts using this link.\\n'\n",
      "         'Join the course Telegram channel with announcements.\\n'\n",
      "         \"Don’t forget to register in DataTalks.Club's Slack and join the \"\n",
      "         'channel.'}\n"
     ]
    }
   ],
   "source": [
    "pprint(documents[0])"
   ]
  },
  {
   "cell_type": "code",
   "execution_count": 84,
   "metadata": {},
   "outputs": [],
   "source": [
    "index = minsearch.Index(\n",
    "    text_fields=[\"question\", \"text\", \"section\"],\n",
    "    keyword_fields=[\"course\"]\n",
    ")\n",
    "index.fit(documents)"
   ]
  },
  {
   "cell_type": "code",
   "execution_count": 87,
   "metadata": {},
   "outputs": [],
   "source": [
    "def search(query):\n",
    "    boost = {'question': 3.0, 'section': 0.5}\n",
    "\n",
    "    results = index.search(\n",
    "        query=query, \n",
    "        filter_dict={'course': 'data-engineering-zoomcamp'},\n",
    "        boost_dict=boost, \n",
    "        num_results=10\n",
    "    )\n",
    "    \n",
    "    return results"
   ]
  },
  {
   "cell_type": "code",
   "execution_count": 97,
   "metadata": {},
   "outputs": [
    {
     "name": "stdout",
     "output_type": "stream",
     "text": [
      "[{'course': 'data-engineering-zoomcamp',\n",
      "  'question': 'Course - Can I still join the course after the start date?',\n",
      "  'section': 'General course-related questions',\n",
      "  'text': \"Yes, even if you don't register, you're still eligible to submit \"\n",
      "          'the homeworks.\\n'\n",
      "          'Be aware, however, that there will be deadlines for turning in the '\n",
      "          \"final projects. So don't leave everything for the last minute.\"},\n",
      " {'course': 'data-engineering-zoomcamp',\n",
      "  'question': 'Course - Can I follow the course after it finishes?',\n",
      "  'section': 'General course-related questions',\n",
      "  'text': 'Yes, we will keep all the materials after the course finishes, so '\n",
      "          'you can follow the course at your own pace after it finishes.\\n'\n",
      "          'You can also continue looking at the homeworks and continue '\n",
      "          'preparing for the next cohort. I guess you can also start working '\n",
      "          'on your final capstone project.'}]\n"
     ]
    }
   ],
   "source": [
    "q = 'the course has already started, can I still enroll?'\n",
    "search_results = search(query=q)\n",
    "pprint(search_results[:2])"
   ]
  },
  {
   "cell_type": "markdown",
   "metadata": {},
   "source": [
    "# 2. LLM Prompt"
   ]
  },
  {
   "cell_type": "code",
   "execution_count": 1,
   "metadata": {},
   "outputs": [
    {
     "name": "stderr",
     "output_type": "stream",
     "text": [
      "/opt/conda/lib/python3.12/site-packages/tqdm/auto.py:21: TqdmWarning: IProgress not found. Please update jupyter and ipywidgets. See https://ipywidgets.readthedocs.io/en/stable/user_install.html\n",
      "  from .autonotebook import tqdm as notebook_tqdm\n"
     ]
    }
   ],
   "source": [
    "from dotenv import load_dotenv\n",
    "import os\n",
    "\n",
    "load_dotenv()\n",
    "\n",
    "import google.generativeai as genai\n",
    "\n",
    "api_token = os.getenv(\"API_KEY\")\n",
    "\n",
    "genai.configure(api_key=api_token)"
   ]
  },
  {
   "cell_type": "code",
   "execution_count": 3,
   "metadata": {},
   "outputs": [],
   "source": [
    "q = 'the course has already started, can I still enroll?'"
   ]
  },
  {
   "cell_type": "code",
   "execution_count": 4,
   "metadata": {},
   "outputs": [
    {
     "name": "stdout",
     "output_type": "stream",
     "text": [
      "It depends on the course and the institution offering it.  Some courses allow late enrollment, while others do not.  To know for sure, you should:\n",
      "\n",
      "* **Check the course syllabus or website:**  Look for information about late enrollment deadlines or contact information for the instructor or course administrator.\n",
      "* **Contact the instructor or course administrator directly:** This is the best way to find out if late enrollment is possible and what the process is.\n",
      "\n",
      "Don't assume you can't enroll just because the course has started.  It's always worth checking.\n",
      "\n"
     ]
    }
   ],
   "source": [
    "model = genai.GenerativeModel(\"gemini-1.5-flash\")\n",
    "response = model.generate_content(q)\n",
    "print(response.text)"
   ]
  },
  {
   "cell_type": "markdown",
   "metadata": {},
   "source": [
    "# 3. RAG and LLM"
   ]
  },
  {
   "cell_type": "code",
   "execution_count": 142,
   "metadata": {},
   "outputs": [],
   "source": [
    "def build_prompt(query, search_results):\n",
    "    prompt_template = \"\"\"\n",
    "    You're a course teaching assistant. Answer the QUESTION based on the CONTEXT from the FAQ database.\n",
    "    Use only the facts from the CONTEXT when answering the QUESTION.\n",
    "\n",
    "    QUESTION: {question}\n",
    "\n",
    "    CONTEXT: \n",
    "    {context}\n",
    "    \"\"\".strip()\n",
    "\n",
    "    context = \"\"\n",
    "    for result in search_results:\n",
    "        context += f\"section: {result[\"section\"]} \\nquestion: {result[\"question\"]} \\nanswer: {result[\"text\"]}\\n\\n\"\n",
    "\n",
    "    full_prompt = prompt_template.format(question=query, context=context)\n",
    "\n",
    "    return full_prompt"
   ]
  },
  {
   "cell_type": "code",
   "execution_count": 155,
   "metadata": {},
   "outputs": [],
   "source": [
    "def llm(prompt):\n",
    "    # Create the model\n",
    "    generation_config = {\n",
    "    \"temperature\": 1,\n",
    "    \"top_p\": 0.95,\n",
    "    \"top_k\": 40,\n",
    "    \"max_output_tokens\": 8192,\n",
    "    \"response_mime_type\": \"text/plain\",\n",
    "    }\n",
    "\n",
    "    model = genai.GenerativeModel(model_name=\"gemini-2.0-flash-exp\",\n",
    "                                  #generation_config=generation_config\n",
    "                                  )\n",
    "    response = model.generate_content(prompt)\n",
    "    return response.text"
   ]
  },
  {
   "cell_type": "code",
   "execution_count": 156,
   "metadata": {},
   "outputs": [],
   "source": [
    "def rag(query):\n",
    "    search_results = search(query=query)\n",
    "    full_prompt = build_prompt(query=query, search_results=search_results)\n",
    "    answer = llm(prompt=full_prompt)\n",
    "    return answer"
   ]
  },
  {
   "cell_type": "code",
   "execution_count": 157,
   "metadata": {},
   "outputs": [
    {
     "name": "stdout",
     "output_type": "stream",
     "text": [
      "Yes, you can still submit homework even if you don't register for the course. Keep in mind there are deadlines for the final projects.\n",
      "\n"
     ]
    }
   ],
   "source": [
    "print(rag('The course already started, can I still join?'))"
   ]
  }
 ],
 "metadata": {
  "kernelspec": {
   "display_name": "base",
   "language": "python",
   "name": "python3"
  },
  "language_info": {
   "codemirror_mode": {
    "name": "ipython",
    "version": 3
   },
   "file_extension": ".py",
   "mimetype": "text/x-python",
   "name": "python",
   "nbconvert_exporter": "python",
   "pygments_lexer": "ipython3",
   "version": "3.12.3"
  }
 },
 "nbformat": 4,
 "nbformat_minor": 2
}
